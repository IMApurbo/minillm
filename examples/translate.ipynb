{
  "nbformat": 4,
  "nbformat_minor": 0,
  "metadata": {
    "colab": {
      "provenance": [],
      "collapsed_sections": [
        "K1yoiesR8O24"
      ]
    },
    "kernelspec": {
      "name": "python3",
      "display_name": "Python 3"
    },
    "language_info": {
      "name": "python"
    }
  },
  "cells": [
    {
      "cell_type": "markdown",
      "source": [
        "# Install and Import Package"
      ],
      "metadata": {
        "id": "K1yoiesR8O24"
      }
    },
    {
      "cell_type": "code",
      "execution_count": null,
      "metadata": {
        "id": "qwyfeGSL7myi"
      },
      "outputs": [],
      "source": [
        "%pip install languagemodels\n",
        "\n",
        "import languagemodels as lm"
      ]
    },
    {
      "cell_type": "markdown",
      "source": [
        "# Translation Example"
      ],
      "metadata": {
        "id": "XRguig1K8WD3"
      }
    },
    {
      "cell_type": "code",
      "source": [
        "lm.do(\"Translate to English: Hola, mundo!\")\n"
      ],
      "metadata": {
        "colab": {
          "base_uri": "https://localhost:8080/",
          "height": 35
        },
        "id": "-K_JCHWZ7v8t",
        "outputId": "85b30980-26d0-4caf-d520-f4e72bb9f17e"
      },
      "execution_count": 3,
      "outputs": [
        {
          "output_type": "execute_result",
          "data": {
            "text/plain": [
              "'Hello, world!'"
            ],
            "application/vnd.google.colaboratory.intrinsic+json": {
              "type": "string"
            }
          },
          "metadata": {},
          "execution_count": 3
        }
      ]
    }
  ]
}